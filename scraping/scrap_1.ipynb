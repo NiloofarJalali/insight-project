{
 "cells": [
  {
   "cell_type": "code",
   "execution_count": 18,
   "metadata": {},
   "outputs": [],
   "source": [
    "import requests\n",
    "import urllib.request\n",
    "import time\n",
    "import pandas as pd\n",
    "import numpy as np\n",
    "import requests\n",
    "from bs4 import BeautifulSoup\n",
    "import time\n",
    "from requests.exceptions import ConnectionError\n",
    "\n",
    "import selenium\n",
    "\n",
    "# url='https://www.tripadvisor.ca/Hotel_Review-g1933359-d8293999-Reviews-Mandapa_a_Ritz_Carlton_Reserve-Kedewatan_Ubud_Gianyar_Regency_Bali.html#REVIEWS'\n",
    "\n",
    "headers = {'user-agent': 'Mozilla/5.0 (Windows NT 10.0; Win64; x64) AppleWebKit/537.36 (KHTML, like Gecko) Chrome/76.0.3809.132 Safari/537.36'}\n",
    "def get_page(url):\n",
    "    responce = requests.get(url,headers=headers)\n",
    "    soup = BeautifulSoup(responce.text,'lxml')\n",
    "    return soup\n",
    "\n",
    "url_list=['https://www.tripadvisor.ca/Hotel_Review-g34438-d4091412-Reviews-YVE_Hotel_Miami-Miami_Florida.html#REVIEWS']\n",
    "for i in range(5,2660,5):\n",
    "      url_list.append('https://www.tripadvisor.ca/Hotel_Review-g34438-d4091412-Reviews-or{}-YVE_Hotel_Miami-Miami_Florida.html#REVIEWS'.format(i))\n",
    "\n",
    "\n"
   ]
  },
  {
   "cell_type": "code",
   "execution_count": 20,
   "metadata": {},
   "outputs": [],
   "source": [
    "temp=[]\n",
    "tt=url_list[0:10]\n",
    "for i in tt:\n",
    "    soup= get_page(i)\n",
    "    review=soup.find_all('div',class_=\"location-review-review-list-parts-RatingLine__bubbles--GcJvM\")\n",
    "    temp.append(review)"
   ]
  },
  {
   "cell_type": "code",
   "execution_count": 22,
   "metadata": {},
   "outputs": [
    {
     "data": {
      "text/plain": [
       "[[<div class=\"location-review-review-list-parts-RatingLine__bubbles--GcJvM\" data-test-target=\"review-rating\"><span class=\"ui_bubble_rating bubble_50\"></span></div>,\n",
       "  <div class=\"location-review-review-list-parts-RatingLine__bubbles--GcJvM\" data-test-target=\"review-rating\"><span class=\"ui_bubble_rating bubble_50\"></span></div>,\n",
       "  <div class=\"location-review-review-list-parts-RatingLine__bubbles--GcJvM\" data-test-target=\"review-rating\"><span class=\"ui_bubble_rating bubble_50\"></span></div>,\n",
       "  <div class=\"location-review-review-list-parts-RatingLine__bubbles--GcJvM\" data-test-target=\"review-rating\"><span class=\"ui_bubble_rating bubble_20\"></span></div>,\n",
       "  <div class=\"location-review-review-list-parts-RatingLine__bubbles--GcJvM\" data-test-target=\"review-rating\"><span class=\"ui_bubble_rating bubble_20\"></span></div>],\n",
       " [<div class=\"location-review-review-list-parts-RatingLine__bubbles--GcJvM\" data-test-target=\"review-rating\"><span class=\"ui_bubble_rating bubble_10\"></span></div>,\n",
       "  <div class=\"location-review-review-list-parts-RatingLine__bubbles--GcJvM\" data-test-target=\"review-rating\"><span class=\"ui_bubble_rating bubble_50\"></span></div>,\n",
       "  <div class=\"location-review-review-list-parts-RatingLine__bubbles--GcJvM\" data-test-target=\"review-rating\"><span class=\"ui_bubble_rating bubble_30\"></span></div>,\n",
       "  <div class=\"location-review-review-list-parts-RatingLine__bubbles--GcJvM\" data-test-target=\"review-rating\"><span class=\"ui_bubble_rating bubble_40\"></span></div>,\n",
       "  <div class=\"location-review-review-list-parts-RatingLine__bubbles--GcJvM\" data-test-target=\"review-rating\"><span class=\"ui_bubble_rating bubble_30\"></span></div>],\n",
       " [<div class=\"location-review-review-list-parts-RatingLine__bubbles--GcJvM\" data-test-target=\"review-rating\"><span class=\"ui_bubble_rating bubble_40\"></span></div>,\n",
       "  <div class=\"location-review-review-list-parts-RatingLine__bubbles--GcJvM\" data-test-target=\"review-rating\"><span class=\"ui_bubble_rating bubble_50\"></span></div>,\n",
       "  <div class=\"location-review-review-list-parts-RatingLine__bubbles--GcJvM\" data-test-target=\"review-rating\"><span class=\"ui_bubble_rating bubble_20\"></span></div>,\n",
       "  <div class=\"location-review-review-list-parts-RatingLine__bubbles--GcJvM\" data-test-target=\"review-rating\"><span class=\"ui_bubble_rating bubble_30\"></span></div>,\n",
       "  <div class=\"location-review-review-list-parts-RatingLine__bubbles--GcJvM\" data-test-target=\"review-rating\"><span class=\"ui_bubble_rating bubble_20\"></span></div>],\n",
       " [<div class=\"location-review-review-list-parts-RatingLine__bubbles--GcJvM\" data-test-target=\"review-rating\"><span class=\"ui_bubble_rating bubble_30\"></span></div>,\n",
       "  <div class=\"location-review-review-list-parts-RatingLine__bubbles--GcJvM\" data-test-target=\"review-rating\"><span class=\"ui_bubble_rating bubble_30\"></span></div>,\n",
       "  <div class=\"location-review-review-list-parts-RatingLine__bubbles--GcJvM\" data-test-target=\"review-rating\"><span class=\"ui_bubble_rating bubble_20\"></span></div>,\n",
       "  <div class=\"location-review-review-list-parts-RatingLine__bubbles--GcJvM\" data-test-target=\"review-rating\"><span class=\"ui_bubble_rating bubble_10\"></span></div>,\n",
       "  <div class=\"location-review-review-list-parts-RatingLine__bubbles--GcJvM\" data-test-target=\"review-rating\"><span class=\"ui_bubble_rating bubble_20\"></span></div>],\n",
       " [<div class=\"location-review-review-list-parts-RatingLine__bubbles--GcJvM\" data-test-target=\"review-rating\"><span class=\"ui_bubble_rating bubble_30\"></span></div>,\n",
       "  <div class=\"location-review-review-list-parts-RatingLine__bubbles--GcJvM\" data-test-target=\"review-rating\"><span class=\"ui_bubble_rating bubble_10\"></span></div>,\n",
       "  <div class=\"location-review-review-list-parts-RatingLine__bubbles--GcJvM\" data-test-target=\"review-rating\"><span class=\"ui_bubble_rating bubble_30\"></span></div>,\n",
       "  <div class=\"location-review-review-list-parts-RatingLine__bubbles--GcJvM\" data-test-target=\"review-rating\"><span class=\"ui_bubble_rating bubble_10\"></span></div>,\n",
       "  <div class=\"location-review-review-list-parts-RatingLine__bubbles--GcJvM\" data-test-target=\"review-rating\"><span class=\"ui_bubble_rating bubble_30\"></span></div>],\n",
       " [<div class=\"location-review-review-list-parts-RatingLine__bubbles--GcJvM\" data-test-target=\"review-rating\"><span class=\"ui_bubble_rating bubble_40\"></span></div>,\n",
       "  <div class=\"location-review-review-list-parts-RatingLine__bubbles--GcJvM\" data-test-target=\"review-rating\"><span class=\"ui_bubble_rating bubble_50\"></span></div>,\n",
       "  <div class=\"location-review-review-list-parts-RatingLine__bubbles--GcJvM\" data-test-target=\"review-rating\"><span class=\"ui_bubble_rating bubble_50\"></span></div>,\n",
       "  <div class=\"location-review-review-list-parts-RatingLine__bubbles--GcJvM\" data-test-target=\"review-rating\"><span class=\"ui_bubble_rating bubble_20\"></span></div>,\n",
       "  <div class=\"location-review-review-list-parts-RatingLine__bubbles--GcJvM\" data-test-target=\"review-rating\"><span class=\"ui_bubble_rating bubble_40\"></span></div>],\n",
       " [<div class=\"location-review-review-list-parts-RatingLine__bubbles--GcJvM\" data-test-target=\"review-rating\"><span class=\"ui_bubble_rating bubble_30\"></span></div>,\n",
       "  <div class=\"location-review-review-list-parts-RatingLine__bubbles--GcJvM\" data-test-target=\"review-rating\"><span class=\"ui_bubble_rating bubble_30\"></span></div>,\n",
       "  <div class=\"location-review-review-list-parts-RatingLine__bubbles--GcJvM\" data-test-target=\"review-rating\"><span class=\"ui_bubble_rating bubble_10\"></span></div>,\n",
       "  <div class=\"location-review-review-list-parts-RatingLine__bubbles--GcJvM\" data-test-target=\"review-rating\"><span class=\"ui_bubble_rating bubble_20\"></span></div>,\n",
       "  <div class=\"location-review-review-list-parts-RatingLine__bubbles--GcJvM\" data-test-target=\"review-rating\"><span class=\"ui_bubble_rating bubble_40\"></span></div>],\n",
       " [<div class=\"location-review-review-list-parts-RatingLine__bubbles--GcJvM\" data-test-target=\"review-rating\"><span class=\"ui_bubble_rating bubble_30\"></span></div>,\n",
       "  <div class=\"location-review-review-list-parts-RatingLine__bubbles--GcJvM\" data-test-target=\"review-rating\"><span class=\"ui_bubble_rating bubble_10\"></span></div>,\n",
       "  <div class=\"location-review-review-list-parts-RatingLine__bubbles--GcJvM\" data-test-target=\"review-rating\"><span class=\"ui_bubble_rating bubble_40\"></span></div>,\n",
       "  <div class=\"location-review-review-list-parts-RatingLine__bubbles--GcJvM\" data-test-target=\"review-rating\"><span class=\"ui_bubble_rating bubble_20\"></span></div>,\n",
       "  <div class=\"location-review-review-list-parts-RatingLine__bubbles--GcJvM\" data-test-target=\"review-rating\"><span class=\"ui_bubble_rating bubble_50\"></span></div>],\n",
       " [<div class=\"location-review-review-list-parts-RatingLine__bubbles--GcJvM\" data-test-target=\"review-rating\"><span class=\"ui_bubble_rating bubble_10\"></span></div>,\n",
       "  <div class=\"location-review-review-list-parts-RatingLine__bubbles--GcJvM\" data-test-target=\"review-rating\"><span class=\"ui_bubble_rating bubble_10\"></span></div>,\n",
       "  <div class=\"location-review-review-list-parts-RatingLine__bubbles--GcJvM\" data-test-target=\"review-rating\"><span class=\"ui_bubble_rating bubble_50\"></span></div>,\n",
       "  <div class=\"location-review-review-list-parts-RatingLine__bubbles--GcJvM\" data-test-target=\"review-rating\"><span class=\"ui_bubble_rating bubble_50\"></span></div>,\n",
       "  <div class=\"location-review-review-list-parts-RatingLine__bubbles--GcJvM\" data-test-target=\"review-rating\"><span class=\"ui_bubble_rating bubble_50\"></span></div>],\n",
       " [<div class=\"location-review-review-list-parts-RatingLine__bubbles--GcJvM\" data-test-target=\"review-rating\"><span class=\"ui_bubble_rating bubble_50\"></span></div>,\n",
       "  <div class=\"location-review-review-list-parts-RatingLine__bubbles--GcJvM\" data-test-target=\"review-rating\"><span class=\"ui_bubble_rating bubble_50\"></span></div>,\n",
       "  <div class=\"location-review-review-list-parts-RatingLine__bubbles--GcJvM\" data-test-target=\"review-rating\"><span class=\"ui_bubble_rating bubble_50\"></span></div>,\n",
       "  <div class=\"location-review-review-list-parts-RatingLine__bubbles--GcJvM\" data-test-target=\"review-rating\"><span class=\"ui_bubble_rating bubble_50\"></span></div>,\n",
       "  <div class=\"location-review-review-list-parts-RatingLine__bubbles--GcJvM\" data-test-target=\"review-rating\"><span class=\"ui_bubble_rating bubble_50\"></span></div>]]"
      ]
     },
     "execution_count": 22,
     "metadata": {},
     "output_type": "execute_result"
    }
   ],
   "source": [
    "temp"
   ]
  },
  {
   "cell_type": "code",
   "execution_count": null,
   "metadata": {},
   "outputs": [],
   "source": []
  }
 ],
 "metadata": {
  "kernelspec": {
   "display_name": "Python 3",
   "language": "python",
   "name": "python3"
  },
  "language_info": {
   "codemirror_mode": {
    "name": "ipython",
    "version": 3
   },
   "file_extension": ".py",
   "mimetype": "text/x-python",
   "name": "python",
   "nbconvert_exporter": "python",
   "pygments_lexer": "ipython3",
   "version": "3.7.3"
  }
 },
 "nbformat": 4,
 "nbformat_minor": 2
}
