{
 "cells": [
  {
   "cell_type": "code",
   "execution_count": 1,
   "metadata": {},
   "outputs": [],
   "source": [
    "import requests\n",
    "import urllib.request\n",
    "import time\n",
    "import pandas as pd\n",
    "import numpy as np\n",
    "import requests\n",
    "from bs4 import BeautifulSoup\n",
    "import time\n",
    "from requests.exceptions import ConnectionError"
   ]
  },
  {
   "cell_type": "code",
   "execution_count": 2,
   "metadata": {},
   "outputs": [],
   "source": [
    "import selenium"
   ]
  },
  {
   "cell_type": "code",
   "execution_count": null,
   "metadata": {},
   "outputs": [],
   "source": [
    "headers = {'user-agent': 'Mozilla/5.0 (Windows NT 10.0; Win64; x64) AppleWebKit/537.36 (KHTML, like Gecko) Chrome/76.0.3809.132 Safari/537.36'}\n"
   ]
  },
  {
   "cell_type": "code",
   "execution_count": 5,
   "metadata": {},
   "outputs": [],
   "source": [
    "url_list=['https://www.tripadvisor.ca/Hotel_Review-g34438-d4091412-Reviews-YVE_Hotel_Miami-Miami_Florida.html#REVIEWS']\n",
    "for i in range(5,2660,5):\n",
    "      url_list.append('https://www.tripadvisor.ca/Hotel_Review-g34438-d4091412-Reviews-or{}-YVE_Hotel_Miami-Miami_Florida.html#REVIEWS'.format(i))\n",
    "\n",
    "\n"
   ]
  },
  {
   "cell_type": "code",
   "execution_count": null,
   "metadata": {},
   "outputs": [],
   "source": [
    "def scraping (headers=headers, url_list, review_name, review_url, date_name, date_url, score_name, score_url):\n",
    "    \n",
    "    def get_page(url):\n",
    "        responce = requests.get(url,headers=headers)\n",
    "        soup = BeautifulSoup(responce.text,'lxml')\n",
    "        return soup\n",
    "    \n",
    "    Review_list=[]\n",
    "    for u in url_list:\n",
    "        soup= get_page(u)\n",
    "        review = soup.find_all(review_name, class_ = review_url)\n",
    "    for i in range(len(review)):\n",
    "         Review_list.append(review[i].text)\n",
    "            \n",
    "    \n",
    "    Review_Date=[]\n",
    "    for u in url_list:\n",
    "        soup= get_page(u)\n",
    "        review = soup.find_all(date_name, class_=date_url)\n",
    "    for i in range(len(review)):\n",
    "         Review_Date.append(review[i].text)\n",
    "            \n",
    "  \n",
    "    Review_Score=[]\n",
    "    for u in url_list:\n",
    "        soup= get_page(u)\n",
    "        review=soup.find_all(score_name,class_=score_url)\n",
    "        Review_Score.append(review)\n",
    "        \n",
    "        \n",
    "    flatten = lambda l: [item for sublist in l for item in sublist]\n",
    "    Review_Score=flatten(Review_Score)\n",
    "    rating=[]\n",
    "    for i in Review_Score:\n",
    "        rating.append(i.span['class'][1])\n",
    "          \n",
    "\n",
    "        \n",
    "        \n",
    "\n",
    "\n",
    "\n",
    "\n",
    "\n"
   ]
  },
  {
   "cell_type": "code",
   "execution_count": null,
   "metadata": {},
   "outputs": [],
   "source": [
    "review_name='q'\n",
    "review_url='location-review-review-list-parts-ExpandableReview__reviewText--gOmRC'\n",
    "date_name='span'\n",
    "date_url=\"location-review-review-list-parts-EventDate__event_date--1epHa\"\n",
    "score_name='div'\n",
    "score_url='location-review-review-list-parts-RatingLine__bubbles--GcJvM'\n"
   ]
  },
  {
   "cell_type": "code",
   "execution_count": 3,
   "metadata": {},
   "outputs": [],
   "source": [
    "# url='https://www.tripadvisor.ca/Hotel_Review-g1933359-d8293999-Reviews-Mandapa_a_Ritz_Carlton_Reserve-Kedewatan_Ubud_Gianyar_Regency_Bali.html#REVIEWS'"
   ]
  },
  {
   "cell_type": "code",
   "execution_count": 4,
   "metadata": {},
   "outputs": [],
   "source": [
    "headers = {'user-agent': 'Mozilla/5.0 (Windows NT 10.0; Win64; x64) AppleWebKit/537.36 (KHTML, like Gecko) Chrome/76.0.3809.132 Safari/537.36'}\n",
    "def get_page(url):\n",
    "    responce = requests.get(url,headers=headers)\n",
    "    soup = BeautifulSoup(responce.text,'lxml')\n",
    "    return soup"
   ]
  },
  {
   "cell_type": "code",
   "execution_count": 7,
   "metadata": {},
   "outputs": [],
   "source": [
    "\n",
    "Review_list=[]\n",
    "for u in url_list:\n",
    "    soup= get_page(u)\n",
    "    review = soup.find_all('q', class_ = 'location-review-review-list-parts-ExpandableReview__reviewText--gOmRC')\n",
    "    for i in range(len(review)):\n",
    "         Review_list.append(review[i].text)\n",
    "\n",
    "#     for i in range(len(review)):\n",
    "#          Review_list.append(review[i].text)"
   ]
  },
  {
   "cell_type": "code",
   "execution_count": 36,
   "metadata": {},
   "outputs": [],
   "source": [
    "Review_Date=[]\n",
    "for u in url_list:\n",
    "    soup= get_page(u)\n",
    "    review = soup.find_all('span', class_=\"location-review-review-list-parts-EventDate__event_date--1epHa\")\n",
    "    for i in range(len(review)):\n",
    "         Review_Date.append(review[i].text)"
   ]
  },
  {
   "cell_type": "code",
   "execution_count": 10,
   "metadata": {},
   "outputs": [],
   "source": [
    "Review_Score=[]\n",
    "for u in url_list:\n",
    "    soup= get_page(u)\n",
    "    review=soup.find_all('div',class_='location-review-review-list-parts-RatingLine__bubbles--GcJvM')\n",
    "    Review_Score.append(review)\n",
    "\n"
   ]
  },
  {
   "cell_type": "code",
   "execution_count": 11,
   "metadata": {},
   "outputs": [],
   "source": [
    "\n",
    "flatten = lambda l: [item for sublist in l for item in sublist]\n",
    "Review_Score=flatten(Review_Score)\n",
    "rating=[]\n",
    "for i in Review_Score:\n",
    "    rating.append(i.span['class'][1])"
   ]
  },
  {
   "cell_type": "code",
   "execution_count": 12,
   "metadata": {},
   "outputs": [],
   "source": [
    "rating_f=[]\n",
    "for i in rating:\n",
    "    rating_f.append(i.replace(\"bubble_\",''))"
   ]
  },
  {
   "cell_type": "code",
   "execution_count": 59,
   "metadata": {},
   "outputs": [],
   "source": [
    "Date=[]\n",
    "for i in Review_Date:\n",
    "    Date.append(i.replace(\"Date of stay:\",''))"
   ]
  },
  {
   "cell_type": "code",
   "execution_count": 60,
   "metadata": {},
   "outputs": [],
   "source": [
    "trip_ad=pd.DataFrame({'Review': Review_list,'rating':rating_f,\"Date\":Date})"
   ]
  },
  {
   "cell_type": "code",
   "execution_count": 61,
   "metadata": {},
   "outputs": [
    {
     "data": {
      "text/html": [
       "<div>\n",
       "<style scoped>\n",
       "    .dataframe tbody tr th:only-of-type {\n",
       "        vertical-align: middle;\n",
       "    }\n",
       "\n",
       "    .dataframe tbody tr th {\n",
       "        vertical-align: top;\n",
       "    }\n",
       "\n",
       "    .dataframe thead th {\n",
       "        text-align: right;\n",
       "    }\n",
       "</style>\n",
       "<table border=\"1\" class=\"dataframe\">\n",
       "  <thead>\n",
       "    <tr style=\"text-align: right;\">\n",
       "      <th></th>\n",
       "      <th>Review</th>\n",
       "      <th>rating</th>\n",
       "      <th>Date</th>\n",
       "    </tr>\n",
       "  </thead>\n",
       "  <tbody>\n",
       "    <tr>\n",
       "      <th>0</th>\n",
       "      <td>No, seriously, don't stay here.  Spend a few m...</td>\n",
       "      <td>10</td>\n",
       "      <td>January 2020</td>\n",
       "    </tr>\n",
       "    <tr>\n",
       "      <th>1</th>\n",
       "      <td>Great central location for our first visit to ...</td>\n",
       "      <td>50</td>\n",
       "      <td>November 2019</td>\n",
       "    </tr>\n",
       "    <tr>\n",
       "      <th>2</th>\n",
       "      <td>We stayed on a Friday night one week &amp; the nex...</td>\n",
       "      <td>30</td>\n",
       "      <td>January 2020</td>\n",
       "    </tr>\n",
       "    <tr>\n",
       "      <th>3</th>\n",
       "      <td>From very friendly taxi driver who charged a r...</td>\n",
       "      <td>50</td>\n",
       "      <td>January 2020</td>\n",
       "    </tr>\n",
       "    <tr>\n",
       "      <th>4</th>\n",
       "      <td>If you are looking for a friendly, modern hote...</td>\n",
       "      <td>50</td>\n",
       "      <td>January 2020</td>\n",
       "    </tr>\n",
       "  </tbody>\n",
       "</table>\n",
       "</div>"
      ],
      "text/plain": [
       "                                              Review rating            Date\n",
       "0  No, seriously, don't stay here.  Spend a few m...     10    January 2020\n",
       "1  Great central location for our first visit to ...     50   November 2019\n",
       "2  We stayed on a Friday night one week & the nex...     30    January 2020\n",
       "3  From very friendly taxi driver who charged a r...     50    January 2020\n",
       "4  If you are looking for a friendly, modern hote...     50    January 2020"
      ]
     },
     "execution_count": 61,
     "metadata": {},
     "output_type": "execute_result"
    }
   ],
   "source": [
    "trip_ad.head()"
   ]
  },
  {
   "cell_type": "code",
   "execution_count": 64,
   "metadata": {},
   "outputs": [],
   "source": [
    "import pickle\n",
    "with open('/Users/niloofar/Documents/insight/data/cleaned/hotel2/trip_ad', 'wb') as f:\n",
    "            pickle.dump(trip_ad, f)\n",
    "        "
   ]
  },
  {
   "cell_type": "code",
   "execution_count": null,
   "metadata": {},
   "outputs": [],
   "source": [
    "rating=[]\n",
    "for i in Review_Score:\n",
    "    rating.append(i.find_all(\"span \"))"
   ]
  },
  {
   "cell_type": "code",
   "execution_count": null,
   "metadata": {},
   "outputs": [],
   "source": [
    "ww=rating[10]\n",
    "[item.string for item in ww.find_all(\"span class\") ]"
   ]
  },
  {
   "cell_type": "code",
   "execution_count": 48,
   "metadata": {},
   "outputs": [],
   "source": [
    "# Date=Review_Date\n",
    "# ww=['Date of stay: April 2013'] * 6\n",
    "# Date.append(ww)"
   ]
  }
 ],
 "metadata": {
  "kernelspec": {
   "display_name": "Python 3",
   "language": "python",
   "name": "python3"
  },
  "language_info": {
   "codemirror_mode": {
    "name": "ipython",
    "version": 3
   },
   "file_extension": ".py",
   "mimetype": "text/x-python",
   "name": "python",
   "nbconvert_exporter": "python",
   "pygments_lexer": "ipython3",
   "version": "3.7.3"
  }
 },
 "nbformat": 4,
 "nbformat_minor": 2
}
