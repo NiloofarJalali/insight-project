{
 "cells": [
  {
   "cell_type": "code",
   "execution_count": 1,
   "metadata": {},
   "outputs": [
    {
     "name": "stderr",
     "output_type": "stream",
     "text": [
      "Warning message in install.packages(\"rvest\"):\n",
      "“'lib = \"/Library/Frameworks/R.framework/Versions/3.5/Resources/library\"' is not writable”"
     ]
    },
    {
     "ename": "ERROR",
     "evalue": "Error in install.packages(\"rvest\"): unable to install packages\n",
     "output_type": "error",
     "traceback": [
      "Error in install.packages(\"rvest\"): unable to install packages\nTraceback:\n",
      "1. install.packages(\"rvest\")",
      "2. stop(\"unable to install packages\")"
     ]
    }
   ],
   "source": [
    "install.packages(\"rvest\")\n",
    "library(rvest)\n"
   ]
  },
  {
   "cell_type": "code",
   "execution_count": null,
   "metadata": {},
   "outputs": [],
   "source": []
  }
 ],
 "metadata": {
  "kernelspec": {
   "display_name": "R 3.3",
   "language": "R",
   "name": "ir33"
  },
  "language_info": {
   "codemirror_mode": "r",
   "file_extension": ".r",
   "mimetype": "text/x-r-source",
   "name": "R",
   "pygments_lexer": "r",
   "version": "3.5.1"
  }
 },
 "nbformat": 4,
 "nbformat_minor": 2
}
