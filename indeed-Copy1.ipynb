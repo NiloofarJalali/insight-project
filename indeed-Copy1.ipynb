{
 "cells": [
  {
   "cell_type": "code",
   "execution_count": null,
   "metadata": {},
   "outputs": [],
   "source": []
  },
  {
   "cell_type": "code",
   "execution_count": null,
   "metadata": {},
   "outputs": [],
   "source": []
  },
  {
   "cell_type": "code",
   "execution_count": 4,
   "metadata": {},
   "outputs": [],
   "source": [
    "import requests\n"
   ]
  },
  {
   "cell_type": "code",
   "execution_count": 5,
   "metadata": {},
   "outputs": [],
   "source": [
    "from bs4 import BeautifulSoup"
   ]
  },
  {
   "cell_type": "code",
   "execution_count": 20,
   "metadata": {},
   "outputs": [],
   "source": [
    "\n",
    "url='https://www.indeed.ca/jobs?q=Data+Scientist&l=Toronto,+ON&start=0'"
   ]
  },
  {
   "cell_type": "code",
   "execution_count": null,
   "metadata": {},
   "outputs": [],
   "source": [
    "import xml\n",
    "headers = {'user-agent': 'Mozilla/5.0 (Windows NT 10.0; Win64; x64) AppleWebKit/537.36 (KHTML, like Gecko) Chrome/76.0.3809.132 Safari/537.36'}\n",
    "def get_page(url):\n",
    "    responce = requests.get(url,headers=headers)\n",
    "    soup = BeautifulSoup(responce.text,'lxml')\n",
    "    return soup"
   ]
  },
  {
   "cell_type": "code",
   "execution_count": null,
   "metadata": {},
   "outputs": [],
   "source": []
  },
  {
   "cell_type": "code",
   "execution_count": 22,
   "metadata": {},
   "outputs": [],
   "source": [
    "def get_links(link_url):  \n",
    "    soup=get_page(link_url)\n",
    "    links_div=soup.find_all('div',class_='title')\n",
    "    links = [div.a.get('href') for div in links_div]\n",
    "    \n",
    "    return links"
   ]
  },
  {
   "cell_type": "code",
   "execution_count": 23,
   "metadata": {},
   "outputs": [],
   "source": [
    "hh=get_links(url)"
   ]
  },
  {
   "cell_type": "code",
   "execution_count": 24,
   "metadata": {},
   "outputs": [],
   "source": [
    "def get_indeed_info(sin_url):\n",
    "    soup=get_page(sin_url)\n",
    "    title=soup.find_all('h3')\n",
    "    tt=title[0].text\n",
    "    span=soup.find_all('span', class_='jobsearch-JobMetadataHeader-iconLabel')\n",
    "    loc=span[0].text\n",
    "\n",
    "    #com=soup.find_all('span', class_='icl-u-textColor--success')\n",
    "    #company=com[0].text\n",
    "\n",
    "    coo=soup.find_all('div', class_='jobsearch-JobMetadataFooter')\n",
    "    ts=coo[0].text\n",
    "    \n",
    "    idx=ts.find('ago')\n",
    "    company=ts[:-38]\n",
    "    \n",
    "    info = {\n",
    "            'title':   tt,\n",
    "            'location': loc,\n",
    "            'company':  company\n",
    "    }\n",
    "\n",
    "    return info"
   ]
  },
  {
   "cell_type": "code",
   "execution_count": null,
   "metadata": {},
   "outputs": [],
   "source": []
  },
  {
   "cell_type": "code",
   "execution_count": null,
   "metadata": {},
   "outputs": [],
   "source": []
  },
  {
   "cell_type": "code",
   "execution_count": null,
   "metadata": {},
   "outputs": [],
   "source": []
  },
  {
   "cell_type": "code",
   "execution_count": 200,
   "metadata": {},
   "outputs": [],
   "source": [
    "\n",
    "import time"
   ]
  },
  {
   "cell_type": "code",
   "execution_count": 201,
   "metadata": {},
   "outputs": [
    {
     "name": "stdout",
     "output_type": "stream",
     "text": [
      "{'title': 'Data Scientist', 'location': 'Toronto, ON', 'company': 'Indeed Prime '}\n",
      "{'title': 'Data Science Consultant', 'location': 'Toronto, ON', 'company': 'Accenture - 30+ days ago '}\n",
      "{'title': 'Data Scientist', 'location': 'Toronto, ON', 'company': 'Sun Life Financial - 8 days ago '}\n",
      "{'title': 'Data Scientist - Engineering', 'location': 'Toronto, ON', 'company': 'Capital One - 30+ days ago '}\n",
      "{'title': 'Data Scientist', 'location': 'Toronto, ON', 'company': ' '}\n",
      "{'title': 'Senior Data Scientist - Game', 'location': 'Burlington, ON', 'company': 'Prodigy Game - 30+ days a'}\n",
      "{'title': 'Data Scientist, Threat Monitoring', 'location': 'Toronto, ON', 'company': 'Scotiabank - 3 days ago '}\n",
      "{'title': 'Data Scientist, Omnia AI - New Graduate 2020 - Multiple Locations', 'location': 'Toronto, ON', 'company': 'Deloitte - 22 days ago '}\n",
      "{'title': 'Data Scientist', 'location': 'Toronto, ON', 'company': 'RBC - Tod'}\n",
      "{'title': 'Data Scientist', 'location': 'Toronto, ON', 'company': 'Receptiviti - 15 days ago '}\n",
      "{'title': 'Data Scientist', 'location': 'Toronto, ON', 'company': 'sgsco - 13 days ago '}\n",
      "{'title': 'Data Scientist', 'location': 'Toronto, ON', 'company': 'Flashfood Inc. - 21 days ago '}\n",
      "{'title': 'Data Scientist - Tableau Specialist', 'location': 'Burlington, ON', 'company': ''}\n",
      "{'title': 'TALENT POOL - FORENSIC SCIENTIST (FIREARMS & TOOLMARKS)', 'location': 'Toronto, ON', 'company': 'Ontario Public Service - 12 days ago '}\n",
      "{'title': 'Data Scientist', 'location': 'Toronto, ON', 'company': 'Sun Life Financial - 8 days ago '}\n",
      "{'title': 'Data Scientist (Markham)', 'location': 'Markham, ON', 'company': 'SCM Insurance - 30+ days ago '}\n",
      "{'title': 'Junior Data Scientist', 'location': 'Vaughan, ON', 'company': ' '}\n",
      "{'title': 'Associate Data Scientist', 'location': 'Toronto, ON', 'company': 'Achievers - 24 days ago '}\n",
      "{'title': 'Data Scientist', 'location': 'Toronto, ON', 'company': 'Assurance - 30+ days ago '}\n",
      "{'title': 'Data Scientist', 'location': 'Toronto, ON', 'company': 'Munich Re - 30+ days ago '}\n",
      "{'title': 'Data Scientist', 'location': 'Toronto, ON', 'company': 'Elix Exchange - 30+ days ago '}\n",
      "{'title': 'Data Scientist', 'location': 'Toronto, ON', 'company': 'GuestLogix - 30+ days ago '}\n",
      "{'title': 'Associate Data Scientist', 'location': 'Toronto, ON', 'company': 'Northbridge Financial Corporation - 30+ days ago '}\n",
      "{'title': 'Data Scientist Co-op, Global DTTL (Jan-April 2020)', 'location': 'Toronto, ON', 'company': 'Deloitte - 7 days a'}\n",
      "{'title': 'Data Scientist', 'location': 'Toronto, ON', 'company': 'StackPros - 30+ days a'}\n",
      "{'title': 'Customer Data Scientist/Sales Engineer (Toronto)', 'location': 'Toronto, ON', 'company': 'h2o.ai - 11 days ago '}\n",
      "{'title': 'Human Resources Data Scientist', 'location': 'Canada', 'company': 'Rio Tinto - 22 days ago '}\n"
     ]
    }
   ],
   "source": [
    "for link in hh:\n",
    "    time.sleep(3)\n",
    "    ts=get_indeed_info('https://www.indeed.ca'+link)\n",
    "    print(ts)\n"
   ]
  },
  {
   "cell_type": "code",
   "execution_count": null,
   "metadata": {},
   "outputs": [],
   "source": []
  },
  {
   "cell_type": "code",
   "execution_count": 2,
   "metadata": {},
   "outputs": [],
   "source": [
    "import re\n",
    "REPLACE_BY_SPACE_RE = re.compile('[/(){}\\[\\]\\|@,;]')"
   ]
  },
  {
   "cell_type": "code",
   "execution_count": 3,
   "metadata": {},
   "outputs": [],
   "source": [
    "tr = REPLACE_BY_SPACE_RE.sub('', tr) #"
   ]
  },
  {
   "cell_type": "code",
   "execution_count": 4,
   "metadata": {},
   "outputs": [
    {
     "data": {
      "text/plain": [
       "\"\\n\\n\\n\\n\\n\\n6\\xa0天前 上傳\\n下載附件 163.36 KB\\n\\n\\n\\n\\n\\r\\nMIAD-177 し Special 南波杏\\r\\nDVD ID\\xa0 \\xa0 \\xa0 \\xa0 MIAD-177\\r\\nRelease Date\\xa0 \\xa0 \\xa0 \\xa0 2006-12-01\\r\\nRuntime\\xa0 \\xa0 \\xa0 \\xa0 182 min\\r\\nDirector\\xa0 \\xa0 \\xa0 \\xa0 HiroA\\r\\nStudio\\xa0 \\xa0 \\xa0 \\xa0 ムーディーズ\\r\\nLabel\\xa0 \\xa0 \\xa0 \\xa0 MOODYZ ACID\\r\\nActress\\xa0 \\xa0 \\xa0 \\xa0 南波杏\\r\\nGenre\\xa0 \\xa0 \\xa0 \\xa0 単體作品 コスプレ し 3P・4P デジモ\\n\\n<br >\\nhtml#facebook.svg <br >\\n&nbsp &nbsp margin-top: 13px<br >\\n<br >\\n\\nvar pid = 126820207\\n 訪客，如果你想觀看隱藏內容請感謝這是給發文者的動力，隨手感謝他，就是最大的鼓勵\\n\\xa0\\xa0閱讀全文\\n\\n解壓縮密碼：紳士的Google Drive搜尋：http:bit.ly2GoftFY複製代碼replyreload += '' + 126820207\""
      ]
     },
     "execution_count": 4,
     "metadata": {},
     "output_type": "execute_result"
    }
   ],
   "source": [
    "tr"
   ]
  },
  {
   "cell_type": "code",
   "execution_count": 5,
   "metadata": {},
   "outputs": [],
   "source": [
    "#BAD_SYMBOLS_RE = re.compile('[0-9a-zA-Z\\_]+')\n",
    "#tr= BAD_SYMBOLS_RE.sub('', tr)"
   ]
  },
  {
   "cell_type": "code",
   "execution_count": 6,
   "metadata": {},
   "outputs": [
    {
     "data": {
      "text/plain": [
       "\"\\n\\n\\n\\n\\n\\n6\\xa0天前 上傳\\n下載附件 163.36 KB\\n\\n\\n\\n\\n\\r\\nMIAD-177 し Special 南波杏\\r\\nDVD ID\\xa0 \\xa0 \\xa0 \\xa0 MIAD-177\\r\\nRelease Date\\xa0 \\xa0 \\xa0 \\xa0 2006-12-01\\r\\nRuntime\\xa0 \\xa0 \\xa0 \\xa0 182 min\\r\\nDirector\\xa0 \\xa0 \\xa0 \\xa0 HiroA\\r\\nStudio\\xa0 \\xa0 \\xa0 \\xa0 ムーディーズ\\r\\nLabel\\xa0 \\xa0 \\xa0 \\xa0 MOODYZ ACID\\r\\nActress\\xa0 \\xa0 \\xa0 \\xa0 南波杏\\r\\nGenre\\xa0 \\xa0 \\xa0 \\xa0 単體作品 コスプレ し 3P・4P デジモ\\n\\n<br >\\nhtml#facebook.svg <br >\\n&nbsp &nbsp margin-top: 13px<br >\\n<br >\\n\\nvar pid = 126820207\\n 訪客，如果你想觀看隱藏內容請感謝這是給發文者的動力，隨手感謝他，就是最大的鼓勵\\n\\xa0\\xa0閱讀全文\\n\\n解壓縮密碼：紳士的Google Drive搜尋：http:bit.ly2GoftFY複製代碼replyreload += '' + 126820207\""
      ]
     },
     "execution_count": 6,
     "metadata": {},
     "output_type": "execute_result"
    }
   ],
   "source": [
    "tr"
   ]
  },
  {
   "cell_type": "code",
   "execution_count": 7,
   "metadata": {},
   "outputs": [],
   "source": [
    "BAD_SYMBOLS_RE = re.compile('[\\s]')\n",
    "tr= BAD_SYMBOLS_RE.sub('', tr)"
   ]
  },
  {
   "cell_type": "code",
   "execution_count": 8,
   "metadata": {},
   "outputs": [
    {
     "data": {
      "text/plain": [
       "\"6天前上傳下載附件163.36KBMIAD-177しSpecial南波杏DVDIDMIAD-177ReleaseDate2006-12-01Runtime182minDirectorHiroAStudioムーディーズLabelMOODYZACIDActress南波杏Genre単體作品コスプレし3P・4Pデジモ<br>html#facebook.svg<br>&nbsp&nbspmargin-top:13px<br><br>varpid=126820207訪客，如果你想觀看隱藏內容請感謝這是給發文者的動力，隨手感謝他，就是最大的鼓勵閱讀全文解壓縮密碼：紳士的GoogleDrive搜尋：http:bit.ly2GoftFY複製代碼replyreload+=''+126820207\""
      ]
     },
     "execution_count": 8,
     "metadata": {},
     "output_type": "execute_result"
    }
   ],
   "source": [
    "tr"
   ]
  },
  {
   "cell_type": "code",
   "execution_count": 9,
   "metadata": {},
   "outputs": [],
   "source": [
    "haha = re.compile(r'\\w{2,4}\\-\\d{3,4}', re.I)"
   ]
  },
  {
   "cell_type": "code",
   "execution_count": 10,
   "metadata": {},
   "outputs": [
    {
     "data": {
      "text/plain": [
       "['MIAD-177', 'MIAD-177']"
      ]
     },
     "execution_count": 10,
     "metadata": {},
     "output_type": "execute_result"
    }
   ],
   "source": [
    "haha.findall(tr)"
   ]
  },
  {
   "cell_type": "code",
   "execution_count": 12,
   "metadata": {},
   "outputs": [
    {
     "data": {
      "text/plain": [
       "'2006-12-01'"
      ]
     },
     "execution_count": 12,
     "metadata": {},
     "output_type": "execute_result"
    }
   ],
   "source": [
    "mat = re.search(r\"(\\d{4}-\\d{1,2}-\\d{1,2})\",tr)\n",
    "mat.group(0)"
   ]
  },
  {
   "cell_type": "code",
   "execution_count": null,
   "metadata": {},
   "outputs": [],
   "source": []
  },
  {
   "cell_type": "code",
   "execution_count": null,
   "metadata": {},
   "outputs": [],
   "source": []
  },
  {
   "cell_type": "code",
   "execution_count": null,
   "metadata": {},
   "outputs": [],
   "source": []
  },
  {
   "cell_type": "code",
   "execution_count": 13,
   "metadata": {},
   "outputs": [
    {
     "data": {
      "text/plain": [
       "'MIAD-177'"
      ]
     },
     "execution_count": 13,
     "metadata": {},
     "output_type": "execute_result"
    }
   ],
   "source": [
    "mat = re.search(r'\\w{2,4}\\-\\d{3,4}',tr)\n",
    "mat.group(0)"
   ]
  },
  {
   "cell_type": "code",
   "execution_count": 16,
   "metadata": {},
   "outputs": [],
   "source": [
    "from wordcloud import WordCloud"
   ]
  },
  {
   "cell_type": "code",
   "execution_count": 17,
   "metadata": {},
   "outputs": [
    {
     "ename": "ModuleNotFoundError",
     "evalue": "No module named 'jieba'",
     "output_type": "error",
     "traceback": [
      "\u001b[1;31m---------------------------------------------------------------------------\u001b[0m",
      "\u001b[1;31mModuleNotFoundError\u001b[0m                       Traceback (most recent call last)",
      "\u001b[1;32m<ipython-input-17-71874e60dc26>\u001b[0m in \u001b[0;36m<module>\u001b[1;34m\u001b[0m\n\u001b[1;32m----> 1\u001b[1;33m \u001b[1;32mimport\u001b[0m \u001b[0mjieba\u001b[0m\u001b[1;33m\u001b[0m\u001b[1;33m\u001b[0m\u001b[0m\n\u001b[0m",
      "\u001b[1;31mModuleNotFoundError\u001b[0m: No module named 'jieba'"
     ]
    }
   ],
   "source": [
    "import jieba"
   ]
  },
  {
   "cell_type": "code",
   "execution_count": 18,
   "metadata": {},
   "outputs": [],
   "source": [
    "\n",
    "from PIL import Image"
   ]
  },
  {
   "cell_type": "code",
   "execution_count": 57,
   "metadata": {},
   "outputs": [],
   "source": [
    "import matplotlib.pyplot as plt                          #数学绘图库\n",
    "from PIL import Image\n",
    "import numpy as np                                      #科学数值计算包，可用来存储和处理大型矩阵\n",
    "import jieba                                            #分词库\n",
    "from wordcloud import WordCloud, ImageColorGenerator   #词云库\n",
    " \n",
    "#1、读入txt文本数据\n",
    "text = open(r'C:\\Users\\Qian\\Desktop\\jayy.txt',encoding=\"utf8\").read()\n",
    " \n",
    "\n"
   ]
  },
  {
   "cell_type": "code",
   "execution_count": 58,
   "metadata": {
    "scrolled": true
   },
   "outputs": [],
   "source": [
    "# 2、结巴分词:cut_all参数可选, True为全模式，False为精确模式,默认精确模式\n",
    "cut_text= jieba.cut(text,cut_all=False)\n",
    "result= \"/\".join(cut_text)#必须给个符号分隔开分词结果,否则不能绘制词云\n"
   ]
  },
  {
   "cell_type": "code",
   "execution_count": null,
   "metadata": {},
   "outputs": [],
   "source": []
  },
  {
   "cell_type": "code",
   "execution_count": null,
   "metadata": {},
   "outputs": [],
   "source": []
  },
  {
   "cell_type": "code",
   "execution_count": null,
   "metadata": {},
   "outputs": [],
   "source": []
  },
  {
   "cell_type": "code",
   "execution_count": 61,
   "metadata": {},
   "outputs": [
    {
     "data": {
      "text/plain": [
       "<wordcloud.wordcloud.WordCloud at 0x1df55f5c7f0>"
      ]
     },
     "execution_count": 61,
     "metadata": {},
     "output_type": "execute_result"
    }
   ],
   "source": [
    "\n",
    "image = Image.open(r'Image.png')\n",
    "graph = np.array(image)\n",
    "\n",
    "wc = WordCloud(font_path=r\"aaa.ttf\",background_color='black',max_font_size=100,width=1000, height=860, margin=2)\n",
    "wc.generate(result)\n"
   ]
  },
  {
   "cell_type": "code",
   "execution_count": 62,
   "metadata": {},
   "outputs": [
    {
     "data": {
      "image/png": "[encoded data removed]",
      "text/plain": [
       "<Figure size 432x288 with 1 Axes>"
      ]
     },
     "metadata": {
      "needs_background": "light"
     },
     "output_type": "display_data"
    }
   ],
   "source": [
    "image_color = ImageColorGenerator(graph)#从背景图片生成颜色值\n",
    "wc.recolor(color_func=image_color)\n",
    "wc.to_file(r\"wordcloud.png\") #按照背景图大小保存绘制好的词云图，比下面程序显示更清晰\n",
    " \n",
    "# 6、显示图片\n",
    "plt.figure(\"词云图\")   #指定所绘图名称\n",
    "plt.imshow(wc)         # 以图片的形式显示词云\n",
    "plt.axis(\"off\")       # 关闭图像坐标系\n",
    "plt.show()\n"
   ]
  },
  {
   "cell_type": "code",
   "execution_count": 1,
   "metadata": {},
   "outputs": [],
   "source": [
    "aa='osSE5Gu0Vi8WRq93UvkYZCjaOKeNJfTyH6tzDQbxFm4M1ndXIPh27wBA rLclpg| 3 35 27 62 51 27 46 57 26 10 46 63 57 45 15 43 53'"
   ]
  },
  {
   "cell_type": "code",
   "execution_count": 2,
   "metadata": {},
   "outputs": [
    {
     "data": {
      "text/plain": [
       "63"
      ]
     },
     "execution_count": 2,
     "metadata": {},
     "output_type": "execute_result"
    }
   ],
   "source": [
    "aa.index('|') "
   ]
  },
  {
   "cell_type": "code",
   "execution_count": 6,
   "metadata": {},
   "outputs": [],
   "source": [
    "bb=aa[64:len(aa)]"
   ]
  },
  {
   "cell_type": "code",
   "execution_count": 7,
   "metadata": {},
   "outputs": [
    {
     "data": {
      "text/plain": [
       "['3',\n",
       " '35',\n",
       " '27',\n",
       " '62',\n",
       " '51',\n",
       " '27',\n",
       " '46',\n",
       " '57',\n",
       " '26',\n",
       " '10',\n",
       " '46',\n",
       " '63',\n",
       " '57',\n",
       " '45',\n",
       " '15',\n",
       " '43',\n",
       " '53']"
      ]
     },
     "execution_count": 7,
     "metadata": {},
     "output_type": "execute_result"
    }
   ],
   "source": [
    "bb.split()"
   ]
  },
  {
   "cell_type": "code",
   "execution_count": 9,
   "metadata": {},
   "outputs": [],
   "source": [
    "numbers = aa[64: len(aa)].split()\n",
    "\n"
   ]
  },
  {
   "cell_type": "code",
   "execution_count": 22,
   "metadata": {},
   "outputs": [
    {
     "name": "stdout",
     "output_type": "stream",
     "text": [
      "S\r",
      "t\r",
      "e\r",
      "p\r",
      "h\r",
      "e\r",
      "n\r",
      " \r",
      "K\r",
      "i\r",
      "n\r",
      "g\r",
      " \r",
      "1\r",
      "9\r",
      "4\r",
      "7\r"
     ]
    }
   ],
   "source": [
    "for item in numbers:\n",
    "  print(aa[int(item)-1],)"
   ]
  },
  {
   "cell_type": "code",
   "execution_count": 19,
   "metadata": {},
   "outputs": [
    {
     "ename": "TypeError",
     "evalue": "can only concatenate str (not \"int\") to str",
     "output_type": "error",
     "traceback": [
      "\u001b[1;31m---------------------------------------------------------------------------\u001b[0m",
      "\u001b[1;31mTypeError\u001b[0m                                 Traceback (most recent call last)",
      "\u001b[1;32m<ipython-input-19-57f0e2664ddf>\u001b[0m in \u001b[0;36m<module>\u001b[1;34m\u001b[0m\n\u001b[0;32m      2\u001b[0m \u001b[1;31m#get all the numbers\u001b[0m\u001b[1;33m\u001b[0m\u001b[1;33m\u001b[0m\u001b[1;33m\u001b[0m\u001b[0m\n\u001b[0;32m      3\u001b[0m \u001b[1;33m\u001b[0m\u001b[0m\n\u001b[1;32m----> 4\u001b[1;33m \u001b[0mnumbers\u001b[0m \u001b[1;33m=\u001b[0m \u001b[0maa\u001b[0m\u001b[1;33m[\u001b[0m\u001b[0mix\u001b[0m\u001b[1;33m+\u001b[0m\u001b[1;36m1\u001b[0m\u001b[1;33m:\u001b[0m \u001b[0mlen\u001b[0m\u001b[1;33m(\u001b[0m\u001b[0ma\u001b[0m\u001b[1;33m)\u001b[0m\u001b[1;33m]\u001b[0m\u001b[1;33m.\u001b[0m\u001b[0msplit\u001b[0m\u001b[1;33m(\u001b[0m\u001b[1;33m)\u001b[0m\u001b[1;33m\u001b[0m\u001b[1;33m\u001b[0m\u001b[0m\n\u001b[0m\u001b[0;32m      5\u001b[0m \u001b[1;33m\u001b[0m\u001b[0m\n\u001b[0;32m      6\u001b[0m \u001b[1;33m\u001b[0m\u001b[0m\n",
      "\u001b[1;31mTypeError\u001b[0m: can only concatenate str (not \"int\") to str"
     ]
    }
   ],
   "source": [
    "ix=aa[int(item)-1]\n",
    "#get all the numbers\n",
    "\n",
    "numbers = aa[ix+1: len(a)].split()\n",
    "\n",
    "\n",
    "for item in numbers:\n",
    "  print(aa[int(item)-1])\n",
    "\n",
    "\n"
   ]
  },
  {
   "cell_type": "code",
   "execution_count": null,
   "metadata": {},
   "outputs": [],
   "source": []
  }
 ],
 "metadata": {
  "kernelspec": {
   "display_name": "Python 3",
   "language": "python",
   "name": "python3"
  },
  "language_info": {
   "codemirror_mode": {
    "name": "ipython",
    "version": 3
   },
   "file_extension": ".py",
   "mimetype": "text/x-python",
   "name": "python",
   "nbconvert_exporter": "python",
   "pygments_lexer": "ipython3",
   "version": "3.7.3"
  }
 },
 "nbformat": 4,
 "nbformat_minor": 2
}
