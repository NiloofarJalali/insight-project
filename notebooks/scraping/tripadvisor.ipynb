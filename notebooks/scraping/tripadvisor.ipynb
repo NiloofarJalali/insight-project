{
 "cells": [
  {
   "cell_type": "code",
   "execution_count": null,
   "metadata": {},
   "outputs": [],
   "source": []
  },
  {
   "cell_type": "code",
   "execution_count": null,
   "metadata": {},
   "outputs": [],
   "source": []
  },
  {
   "cell_type": "code",
   "execution_count": 39,
   "metadata": {},
   "outputs": [],
   "source": [
    "import requests\n"
   ]
  },
  {
   "cell_type": "code",
   "execution_count": 40,
   "metadata": {},
   "outputs": [],
   "source": [
    "from bs4 import BeautifulSoup"
   ]
  },
  {
   "cell_type": "code",
   "execution_count": 41,
   "metadata": {},
   "outputs": [],
   "source": [
    "\n",
    "url='https://www.tripadvisor.ca/Hotel_Review-g1933359-d8293999-Reviews-Mandapa_a_Ritz_Carlton_Reserve-Kedewatan_Ubud_Gianyar_Regency_Bali.html#REVIEWS'"
   ]
  },
  {
   "cell_type": "code",
   "execution_count": 42,
   "metadata": {},
   "outputs": [],
   "source": [
    "headers = {'user-agent': 'Mozilla/5.0 (Windows NT 10.0; Win64; x64) AppleWebKit/537.36 (KHTML, like Gecko) Chrome/76.0.3809.132 Safari/537.36'}\n",
    "def get_page(url):\n",
    "    responce = requests.get(url,headers=headers)\n",
    "    soup = BeautifulSoup(responce.text,'lxml')\n",
    "    return soup"
   ]
  },
  {
   "cell_type": "code",
   "execution_count": 45,
   "metadata": {},
   "outputs": [],
   "source": [
    "soup= get_page(url)"
   ]
  },
  {
   "cell_type": "code",
   "execution_count": 48,
   "metadata": {},
   "outputs": [],
   "source": [
    "review = soup.find_all('q', class_ = 'location-review-review-list-parts-ExpandableReview__reviewText--gOmRC')"
   ]
  },
  {
   "cell_type": "code",
   "execution_count": 52,
   "metadata": {},
   "outputs": [
    {
     "name": "stdout",
     "output_type": "stream",
     "text": [
      "I have stayed in many high-end resorts in south east Asia and the service provided at Mandapa set a very high standard that is really difficult to match. The view of the river valley and the huge room will make your stay memorable. Highly recommend \n",
      "\n",
      "It was A nice stay......Service was good.......View was Awesom.......Food was good......Rooms were large.......Best hotel to stay.. .. ..  Overall experience was good here.... .. ..  I Suggest Everyone to once check this place.. . \n",
      "\n",
      " Simply put this resort is out of this world!  A place of tranquility, peace and natural beauty.  Firstly highly recommend this resort, it is stunning and the Mandapa team really make this place special. A place is made by the people, and every single member of the team here really makes this place a paradise.  Short Summary: Staff - excellent, friendly, professional, accommodating, always smiling and excellent with English speaking, all work well together and individually. Every single member of the team we encountered were amazing and very friendly. Exceptionally hard working team, very impressive!  Villa accommodation - excellent, clean, stunning interior and exterior, luxurious & comfortable Service - excellent, polite, friendly & professional Food - excellent, delicious, beautifully crafted and presented. Local specialities and really nice refreshing healthy drinks. Spa - incredible experiences, serene, clean and relaxing Amenities- excellent and plentiful Experiences / excursions- brilliant, informative and scenic. Amazing memories to be made. Yoga - uplifting and excellent instructor Pool Bar - fabulous Library - afternoon tea was amazing, gorgeous interior Private dining - remarkable experience highly recommend Room service - excellent Cleaning - excellent, very very clean Kubu dining - exquisite and intimate dining Temple - Holy, beautiful architecture Private dining - incredible experiences   Full summary:  We arrived after a long series of flights. I was a little disheveled, a little travel sick and sleep deprived. The welcome was so warm and friendly. The lobby is spectacular and I don’t think I fully appreciated it straight after all that travelling, but when I visited it again once I felt better, it truly is stunning.  The welcome team were very friendly and provided lovely refreshing drinks and beautifully scented cold face cloths. Our bags had been swiftly taken to our room as soon as we had stepped out of our transport (see review of EXO in another post) and we were greeted by Ana the resort manager and our lovely assistant Budi, your assistant is referred to as a Patih - which means “the King’s right-hand man (or woman)”. We were escorted to our lovely Villa (number 23) which was breathtaking. The exterior was like a sanctuary, the sounds of nature surrounding you, is just so peaceful. Beautiful rainforest greenery, over looking the river, private pool, a separate living area - which was gorgeous. Our check in process took place in our room, which had exquisite Balinese decor. The check in at our villa added an element of comfort and privacy to it.  A little advice this usually applies to most hotels, but ensure your credit card is activated / aware of your travel - we were in a bit of a situation as my husbands credit cards still thought they were in our previous destination (see review of Akra Hotel in Turkey) and had a cross over of a day, due to our transfer from Singapore and my cards were in a similar position although my credit card had expired 3 days earlier and I needed to activate my brand new card and inform my card company where I was. Our debit cards are fine in any country however this meant for roughly a day we had to settle any incidentals in cash or debit card. Which was absolutely fine. The check in was very smooth despite our credit card situation, which was updated as soon as everything was sorted. I would definitely get local currency of Indonesia Rupiah as I brought US Dollar after reading this was better somewhere...using both is fine but I used US dollar for tipping. Get the currency app XE for easy calculation.  Anyway back to the villa! Budi was so lovely and had a friendly and calming demeanour. She was informative and gave us her card if we needed anything. Budi is a very very kind natured young lady, very bright, intelligent and caring. Thank you Budi for all your help.  I was fairly exhausted from all the travelling and took a nap before dinner. The bed was so comfortable and I love Ritz-Carlton pillows (I googled them and you can buy on them online from the Ritz-Carlton store) after our refreshing nap and freshen up in our stunning bathroom, we had a fantastic dinner at the Sawah Terrace. The Sawah Terrace had ambient lighting and you felt really connected to nature. The food was amazing and the staff so friendly and informative, they spoke really good English and are always attentive with a very positive attitude.  The room service was so lovely we did have breakfast and evening meals in our room, as the view from our river side lounge was so lovely and private. The food arrived perfectly presented, hot and tasty!  The housekeeping, pool cleaning & turn down service was impressive. Attention to detail, impeccable cleaning and sometimes they left little notes personalised about how our trip out went that day. Little personal touches like this are truly appreciated and shows how the team always go the extra mile. The garden was beautifully maintained and the pool was very well maintained. The toilet was a toto model with all the cleaning gadgets- impressive technology. We had two showers one indoor and one outdoor and the bath tub was amazing. All the beauty products came in refillable ceramic bottles - which I love because this shows the commitment to recycling and demonstrates an eco friendly attitude. Lots of the vanity kits etc were all in lovely recycled materials that looked chic and served an eco friendly ethos.  Experiences / excursions - Mandapa offers some amazing experiences which I highly recommend you try, they have carefully selected wonderful memory making experiences and excursions. I booked the Women’s Empowerment Journey at the spa and it was magnificent. (Please forgive me I can’t recall the name of my wonderful therapist!) Meditation, Balinese foot washing, empowerment mantras, breathing exercises, massage, beautifully scented products and such a relaxing and uplifting experience. I highly recommend this. We had a river view and balcony with this treatment room. Lovely to be surrounded by the sounds is nature. Thank you to my amazing therapist for taking me through this journey.  Later on in the week I also had a truly amazing experience with Mandapa at the spa, with one of their local healers - Ibu Ketut Mursi - a wonderful blind intuitive healer. This was quite an incredible experience of hands on healing, by a truly gifted lady, a combination of massage, reflexology and acupressure coupled with what felt like realignment of the body’s chakras and a feeling of energy and peace at the same time. A very memorable experience. A translation of my healer’s advice was exchanged with me after the treatment.  Excursion to Rice Terrace and Temple - our Mandapa guide Made was so informative, professional, friendly and helpful. Our driver was great, felt really safe and in good hands. We had a lovely time, Made also took some lovely photos of our trip on our phones. The resort offers beautiful temple attire, dress modestly as a general rule. Research Bali on etiquette and temple rules respectfully. The rice fields and how the rice is made, has truly given us insight into how much hard work goes into rice production, a new level of gratitude has been revealed to us from this experience.  Yoga - the yoga class was great, a beginners class suitable for everyone. If you have yoga experience you will still find this suitable as Winana (apologies if I spelt your name wrong) really knows how to read your experience level and will ensure you correctly assume the poses and get the very best from you session. In hindsight I wish I had booked a couple of private classes with Winana as some excursions (we also used a local tour guide as well as the hotel guide - see EXO review) as some days I missed the morning class time and the afternoon class time. If you are really advanced in yoga then Winana will ensure a private session would be tailored to your needs. The yoga studio was beautiful, with views of the river and the sounds of the nature all around. Highly recommend.  Experience - The Enchanting Love Journey. We wanted to experience something special and coming up to our third year wedding anniversary the enchanted love journey was an experience that really spoke to us. A local priest and members of his community came to arrange an amazing blessing for us. We had translation guidance through Mandapa (please forgive me I forget the lovely Patih’s name) this was a celebration of our love and being in Bali we wanted to celebrate our marriage there and have the local blessing. This was an incredible experience of cleansing, blessings, offerings to the gods, gratitude for all and traditional Balinese Hindu prayer. We exchanged our vows (our original wedding vows) and as we really feel the beliefs of the Balinese people align with our core beliefs, this experience felt right for us. It was so beautiful and the memories we made are incredible. The hotel has a photographer who captured this precious moments.  Photographer- our ceremony photographer was Theo, not only does he photograph the Enchanting Love Journey but Mandapa have other services were you can have photos taken around the stunning Mandapa Reserve. Highly recommend having the resorts professional photographer capture your special moments at Mandapa. We are so happy with our ceremony photographs. We saw a couple having some lovely moments being captured during our stay. It’s refreshing to have someone take professional photographs instead of trying to take selfies unable to truly capture the amazing full space of nature around you.  Kubu - dining experience. Set by the river the Kubu restaurant offers 9 intimate dining pods. This is a must do here at the resort. We ate around 6pm which was perfect for us as we got to see the light change to darkness. The architecture and interior design was stunning. We had the 8 course gourmet set dinner, which was fabulous. The presentation was marvellous and the food was phenomenal! Our server was attentive, polite and friendly, she was wonderful.  Private dining - we had the seafood BBQ on the rice fields, this was being set up on the beautiful rice fields, unfortunately the heavens opened and it rained just before we were due to arrive. However- the Mandapa team swiftly moved the beautiful flower arrangements, table and BBQ station into the pool bar - which was reserved for our exclusive use only. They worked so hard and efficiently to move the setting into the beautiful pool bar / library area. A huge thank you for all that hard work. Hearing the sound of the rain was actually really atmospheric. The flowers arranged on the floor next to our table and the table setting was perfection! The ambience and atmosphere was divine.  On a quick side note, yes we did know this time of year is classed as the rainy season, but this does not deter us, it’s far warmer than the UK, (we had temps in the high 20’s with sunshine and a few showers that cleared up) it’s stunning and the rain is warm and incredible to watch! In a place so beautiful the rain, to me personally does not matter it’s nature and it’s wonderfully hypnotic to watch and hear.  Back the BBQ! Our chef was very very talented (please forgive me I can’t recall your name), I mean it was exquisite, the flavours, the textures, the presentation! It was divine!!! Fine dining and superb. Thank you so much Chef you are incredibly talented and hard working. The choice of starters and selection of seafood was brilliant. We could see our chef preparing the delicious seafood and he was very informative, polite and attentive during our dining experience. Such wonderful personal service like this is what makes Mandapa. Service - Impressive. Yogi, thank you for making our dining experience magnificent!! Yogi and the team worked so hard to bring the whole perfected set up from outside to inside before we arrived (earlier on in the day on our way to our villa we saw the dining area being set up on the rice fields - before the rain came down) and it was perfect. If we hadn’t already seen the set up outside you would have thought they had spent all the time preparing the pool bar / library area for the dining. So huge thank you for making such an impossible looking task - look effortless and possible! Yogi, this young man is exceptional. Well mannered, polite, professional, good English and really passionate about his role at Mandapa. I believe in nurturing people in their career, and in turn you have great people like Yogi and the Mandapa team. Yogi was perfect at service and knew when to converse and when to politely allow space to retain the intimacy of the dining experience. Thank you to all that made this such a magical evening.  Private dining experience 2 - After our Enchanting Love Journey Ceremony we had a meal in our lounge area (separate building in our villa from our sleeping area) there is another location reserved for this special dining however it suited us better to have this in our room as we were leaving at 6am the next morning to go to Singapore (see Singapore Ritz-Carlton Millenia review).  Yogi was our private dining experience butler again, which was great! The lounge had been turned into a floral walkway with decorative petals in hearts and candles - this was just so heavenly and ambient. The table setting was gorgeous and the music was perfect. This was an 8 course meal of exquisitely presented dishes. All the courses were delicious, flavoursome and served perfectly. The setting was intimate, private and Yogi was just such a gentleman in serving, preparing and again knew the perfect moments to exit and allow the dinner to flow perfectly. How the team managed to seamlessly arrange delivery of each course to our villa, which arrived at absolutely the perfect temperature (depending on the course requirement ) and at the perfect time, was simply - incredible. That is impeccable timing and all was quickly and quietly arranged while we were enjoying the dining experience. Huge thank you to all the team that made that so seamless.  Mandapa also has a little garden of vegetables and of course the rice paddies. The feel of the Mandapa resort is that of a stunning village. That is a place where nature is of importance, protecting and being environmentally friendly is key and yet providing excellent 5 star service and in a luxurious manner.  We came to Mandapa for relaxation and to feel back in touch with nature, we were not disappointed. Mandapa can offer adventures and can adapt to your wishes. We are going to return here as there are so many more memories to be made here and well the whole Mandapa team work so hard yet make everything feel effortless. The beauty in this place is everywhere!  I want to say huge special thanks to each and every member of the team at Mandapa you work incredibly hard and it is appreciated. We are very grateful for all your attentiveness and excellent care throughout our stay. I am in awe that you able to understand various English - with all the different local and international accents it comes with, that in itself is truly impressive! If I am speaking French I struggle with understanding the all local french accents, this often leaves me unable to communicate! So thank you for your dedication to learning.  So visitors when you are anywhere in the world on your wonderful travels just remember how many different accents are connected to speaking in English and how appreciative we should be for these amazing locals learning to identify and respond in your spoken language. Impressive!  Mandapa management - thank you for all your assistance and for encouraging your team members to be the best they can. I do hope to hear that Ritz-Carlton enriches their staff members and rewards them, to us every hotel we visit we truly hope the staff are rewarded and made to feel as appreciated as we have.  Special thanks to each and every member of the Mandapa team thank you for creating a calming, peaceful sanctuary. Thanks to Budi, Ana, Tapsir, Yogi, Winana, Pradipa, Dayu, Agus, Iim, Made and everyone at the Mandapa! Apologies if I have missed anyone out, please know we are so very grateful for all your hard work and kindness.  I really should start taking time reviewing more of our travels as we very fortunate to experience some of the world’s finest resorts and hotels. Of course as soon as we are home it’s back to work!  We have left Mandapa with a refreshed sense of mind, body and soul. We have really been able to take time out of our working mindset and reset the clock, which is rare for us! We are feeling rested, refreshed and able to take home some of the peace and tranquility the Mandapa has enabled to discover. Our next stop is the Ritz-Carlton Millenia Singapore (see review soon) - we have stayed here before it was excellent! And I am sure it will be again.  Thank you so much, see you again. Mrs Alexandra & Dr David  Sent from my iPhone… \n",
      "\n",
      "I went to Mandapa to have wedding anniversary dinner in one of their restaurant, Kubu. The service given was great especialy Ms. Kadek. Would be very happy to recommend to other people to go to Mandapa Ubud. \n",
      "\n",
      "“Breathtaking, exceptional, and magical” are the first three words that come to mind when describing Mandapa, a Ritz-Carlton Reserve. From the moment we checked-in while enjoying a spectacular view to the final goodbyes, every second of our stay has been incredible.  Everyone went above and beyond anything one could expect in such an ultra-luxurious hotel; to Ana, Alex, Anna, Reka, Budi, and all the Ladies and Gentlemen of Mandapa, a heartfelt “Thank You”! \n",
      "\n"
     ]
    }
   ],
   "source": [
    "for i in range(len(review)):\n",
    "    print(review[i].text, '\\n')\n",
    "\n"
   ]
  },
  {
   "cell_type": "code",
   "execution_count": null,
   "metadata": {},
   "outputs": [],
   "source": []
  },
  {
   "cell_type": "code",
   "execution_count": 59,
   "metadata": {},
   "outputs": [
    {
     "name": "stdout",
     "output_type": "stream",
     "text": [
      "https://www.tripadvisor.ca/Hotel_Review-g1933359-d8293999-Reviews-or5-Mandapa_a_Ritz_Carlton_Reserve-Kedewatan_Ubud_Gianyar_Regency_Bali.html#REVIEWS\n",
      "https://www.tripadvisor.ca/Hotel_Review-g1933359-d8293999-Reviews-or10-Mandapa_a_Ritz_Carlton_Reserve-Kedewatan_Ubud_Gianyar_Regency_Bali.html#REVIEWS\n",
      "https://www.tripadvisor.ca/Hotel_Review-g1933359-d8293999-Reviews-or15-Mandapa_a_Ritz_Carlton_Reserve-Kedewatan_Ubud_Gianyar_Regency_Bali.html#REVIEWS\n"
     ]
    }
   ],
   "source": [
    "for i in range(5,20,5):\n",
    "\n",
    "    print('https://www.tripadvisor.ca/Hotel_Review-g1933359-d8293999-Reviews-or{}-Mandapa_a_Ritz_Carlton_Reserve-Kedewatan_Ubud_Gianyar_Regency_Bali.html#REVIEWS'.format(i))"
   ]
  },
  {
   "cell_type": "code",
   "execution_count": 54,
   "metadata": {},
   "outputs": [
    {
     "data": {
      "text/plain": [
       "'https://www.tripadvisor.ca/Hotel_Review-g1933359-d8293999-Reviews-or5-Mandapa_a_Ritz_Carlton_Reserve-Kedewatan_Ubud_Gianyar_Regency_Bali.html#REVIEWS'"
      ]
     },
     "execution_count": 54,
     "metadata": {},
     "output_type": "execute_result"
    }
   ],
   "source": [
    "url"
   ]
  },
  {
   "cell_type": "code",
   "execution_count": null,
   "metadata": {},
   "outputs": [],
   "source": []
  },
  {
   "cell_type": "code",
   "execution_count": null,
   "metadata": {},
   "outputs": [],
   "source": []
  },
  {
   "cell_type": "code",
   "execution_count": 43,
   "metadata": {},
   "outputs": [],
   "source": [
    "def get_links(link_url):  \n",
    "    soup=get_page(link_url)\n",
    "    links_div=soup.find_all('div',class_='title')\n",
    "    links = [div.a.get('href') for div in links_div]\n",
    "    \n",
    "    return links"
   ]
  },
  {
   "cell_type": "code",
   "execution_count": 34,
   "metadata": {},
   "outputs": [],
   "source": [
    "hh=get_links(url)"
   ]
  },
  {
   "cell_type": "code",
   "execution_count": 35,
   "metadata": {},
   "outputs": [],
   "source": [
    "def get_indeed_info(sin_url):\n",
    "    soup=get_page(sin_url)\n",
    "    title=soup.find_all('h3')\n",
    "    tt=title[0].text\n",
    "    span=soup.find_all('span', class_='jobsearch-JobMetadataHeader-iconLabel')\n",
    "    loc=span[0].text\n",
    "\n",
    "    #com=soup.find_all('span', class_='icl-u-textColor--success')\n",
    "    #company=com[0].text\n",
    "\n",
    "    coo=soup.find_all('div', class_='jobsearch-JobMetadataFooter')\n",
    "    ts=coo[0].text\n",
    "    \n",
    "    idx=ts.find('ago')\n",
    "    company=ts[:-38]\n",
    "    \n",
    "    info = {\n",
    "            'title':   tt,\n",
    "            'location': loc,\n",
    "            'company':  company\n",
    "    }\n",
    "\n",
    "    return info"
   ]
  },
  {
   "cell_type": "code",
   "execution_count": null,
   "metadata": {},
   "outputs": [],
   "source": []
  },
  {
   "cell_type": "code",
   "execution_count": null,
   "metadata": {},
   "outputs": [],
   "source": []
  },
  {
   "cell_type": "code",
   "execution_count": null,
   "metadata": {},
   "outputs": [],
   "source": []
  },
  {
   "cell_type": "code",
   "execution_count": 36,
   "metadata": {},
   "outputs": [],
   "source": [
    "\n",
    "import time"
   ]
  },
  {
   "cell_type": "code",
   "execution_count": 37,
   "metadata": {},
   "outputs": [
    {
     "name": "stdout",
     "output_type": "stream",
     "text": [
      "{'title': 'Data Scientist', 'location': 'Toronto, ON', 'company': ''}\n",
      "{'title': 'Data Science Internship', 'location': 'Markham, ON', 'company': ''}\n",
      "{'title': 'Machine Learning Research Lead', 'location': 'Toronto, ON', 'company': 'ISG Search Inc - 1 day a'}\n",
      "{'title': 'Python Data Scientist - Research and Engineering', 'location': 'Toronto, ON', 'company': ''}\n",
      "{'title': 'Data Scientist I', 'location': 'Toronto, ON', 'company': 'TD Bank - 1 day a'}\n",
      "{'title': 'Senior Data Scientist - Israel Hiring Event 2020', 'location': 'Toronto, ON', 'company': 'Amazon.com - 1 day a'}\n",
      "{'title': 'Data Scientist', 'location': 'Toronto, ON', 'company': 'Amazon.com - 10 days a'}\n",
      "{'title': 'Data Scientist', 'location': 'Toronto, ON', 'company': 'McAfee - Just post'}\n",
      "{'title': 'Data Scientist', 'location': 'Toronto, ON', 'company': ''}\n",
      "{'title': 'WiSE Attendees ONLY - Data Scientist, Summer Intern/Co-op 2020', 'location': 'Toronto, ON', 'company': 'Capital One - Just post'}\n",
      "{'title': 'Marketing Data Scientist', 'location': 'Toronto, ON', 'company': 'InteraXon - 6 days a'}\n",
      "{'title': 'Machine Learning Engineer / Data Scientist', 'location': 'Toronto, ON', 'company': 'SoundHound Inc. - 30+ days a'}\n",
      "{'title': 'Data Scientist', 'location': 'Toronto, ON', 'company': 'WGames Inc. - 7 days a'}\n",
      "{'title': 'Data Scientist', 'location': 'Toronto, ON', 'company': 'Step by Step Professional Services - 30+ days a'}\n",
      "{'title': 'Data Scientist', 'location': 'Toronto, ON', 'company': ''}\n",
      "{'title': 'Junior Data Scientist', 'location': 'Toronto, ON', 'company': 'Game Hive Corporation - 30+ days a'}\n",
      "{'title': 'Data Scientist', 'location': 'Toronto, ON', 'company': 'Brainstation - 30+ days a'}\n",
      "{'title': 'SENIOR DATA SCIENTIST (DIGITAL AND DATA SCIENCE)', 'location': 'Toronto, ON', 'company': 'The Globe and Mail - 1 day a'}\n",
      "{'title': 'Data Scientist', 'location': 'Toronto, ON', 'company': 'Munich Re - 30+ days a'}\n",
      "{'title': 'Data Scientist', 'location': 'Toronto, ON', 'company': 'LoyaltyOne - 7 days a'}\n",
      "{'title': 'Data Science Analyst', 'location': 'Toronto, ON', 'company': ''}\n",
      "{'title': 'Data Scientist', 'location': 'Toronto, ON', 'company': 'Loopio - 6 days a'}\n",
      "{'title': 'Data Analyst', 'location': 'Toronto, ON', 'company': ''}\n",
      "{'title': 'DATA SCIENTIST', 'location': 'Toronto, ON', 'company': 'TRIANGLES - 30+ days a'}\n",
      "{'title': 'Data Science and AI Instructor', 'location': 'Toronto, ON', 'company': ''}\n"
     ]
    }
   ],
   "source": [
    "for link in hh:\n",
    "    time.sleep(3)\n",
    "    ts=get_indeed_info('https://www.indeed.ca'+link)\n",
    "    print(ts)\n"
   ]
  },
  {
   "cell_type": "code",
   "execution_count": null,
   "metadata": {},
   "outputs": [],
   "source": []
  },
  {
   "cell_type": "code",
   "execution_count": null,
   "metadata": {},
   "outputs": [],
   "source": []
  }
 ],
 "metadata": {
  "kernelspec": {
   "display_name": "Python 3",
   "language": "python",
   "name": "python3"
  },
  "language_info": {
   "codemirror_mode": {
    "name": "ipython",
    "version": 3
   },
   "file_extension": ".py",
   "mimetype": "text/x-python",
   "name": "python",
   "nbconvert_exporter": "python",
   "pygments_lexer": "ipython3",
   "version": "3.7.3"
  }
 },
 "nbformat": 4,
 "nbformat_minor": 2
}
